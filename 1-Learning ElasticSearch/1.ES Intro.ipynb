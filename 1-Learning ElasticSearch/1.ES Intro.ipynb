{
 "cells": [
  {
   "cell_type": "markdown",
   "metadata": {},
   "source": [
    "# **0. ES Intro**\n",
    "Following: \"What is Elasticsearch and why is it so fast?\"</br>\n",
    "https://lynn-kwong.medium.com/what-is-elasticsearch-and-why-is-it-so-fast-5a4b95747d19\n"
   ]
  },
  {
   "cell_type": "markdown",
   "metadata": {},
   "source": [
    "### **1. ES Introduction:**\n",
    "Elasticsearch is the most popular <u>open-source enterprise search engine</u> based on the <u>Lucene</u> library, which allows the creation of \"indices\" on every \"field\" of a \"document\" by default. Another popular search engine based on the Lucene library is <u>Apache Solr</u>. Solr is a mature and also widely used search engine. We can’t easily say which one is better and there has been fierce quarrels about this issue. Nonetheless, Elasticsearch is becoming more and more popular and has become the first choice for many companies. Elasticsearch is very <u>easy to install and get started</u>. There is even a company called <u>elastic.co</u> which is dedicated to the creation and maintenance of Elasticsearch deployments.\n",
    "\n",
    "Besides being a search engine, Elasticsearch is also a <u>distributed document store</u>. Unlike relational databases like MySQL which stores data as rows and columns, Elasticsearch is a <u>NoSQL data store</u> which stores data as <u>**JSON documents**</u>. In the aspect of data store, Elasticsearch is similar to <u>MongoDB</u> which also stores data as JSON documents. However, Elasticsearch and MongoDB are quite different. First, MongoDB is dedicated to data storage, whereas Elasticsearch is to <u>searching</u>. Or we can understand in this way that MongoDB is optimized for writing and Elasticsearch is optimized for <u>reading</u>. In Elasticsearch, all the \"fields\" are \"indexed\" by default, while in MongoDB you need to create the indices by yourself otherwise the read operation can be slow. Besides, with Elasticsearch, you can use <u>RESTful APIs</u> to do the <u>CRUD</u> operations, while in MongoDB RESTful APIs are not supported, and you need to use the MongoDB domain specific language to do the CRUD operations.\n",
    "\n",
    "Why is Elasticsearch so fast? It is because Elasticsearch uses a data structure called an <u>**inverted index**</u> which supports very <u>fast full-text searches</u> and <u>lists every unique word that appears in any document and identifies all of the documents each word occurs in</u>. By default, Elasticsearch <u>indexes all data in every field and each indexed field has a dedicated, optimized data structure</u>. For example, <u>**text**</u> fields are stored in inverted indices, and <u>**numeric and geo**</u> fields are stored in BKD trees. The ability to use the <u>per-field data structures</u> to assemble and return search results is what makes Elasticsearch so fast."
   ]
  },
  {
   "cell_type": "markdown",
   "metadata": {},
   "source": [
    "### **2. ES Terminologies:**\n",
    "<u>**Document**</u> — A document is a <u>JSON object</u> which is composed of many <u>key-value pairs</u>.\n",
    "\n",
    "<u>**Index**</u> — An index is a collection of documents."
   ]
  },
  {
   "cell_type": "markdown",
   "metadata": {},
   "source": [
    "### **3. Play with ES using Bonsai:**\n",
    "You can use <u>Bonsai</u>(https://bonsai.io/) to quickly set up an Elasticsearch cluster in the sandbox for free, which is good for demonstration. You can use your Google account to create an account and you don’t need to provide your credit card information if you just want to have a demo cluster. Once the demo cluster is set up, you can go to <u>Console tab</u> and start to play around with Elasticsearch.\n",
    "\n",
    "As we said, Elasticsearch supports the <u>**RESTful APIs**</u>, therefore you can you can use the <u>PUT, GET, POST and DELETE </u>commands to do <u>create, read, update and delete (CRUD)</u> operations for the <u>indices and documents</u>."
   ]
  },
  {
   "cell_type": "code",
   "execution_count": null,
   "metadata": {},
   "outputs": [],
   "source": [
    "# TRY CODE BELOW IN BONSAI CONSOLE:\n",
    "#【1】To create an \"index\":\n",
    "PUT /test-index #----------------------> Kibana commands!!! Put them into Kibana\n",
    "# Output:\n",
    "        # {\n",
    "        #   \"acknowledged\": true,\n",
    "        #   \"shards_acknowledged\": true,\n",
    "        #   \"index\": \"test-index\"\n",
    "        # }\n",
    "\n",
    "\n",
    "#【2】To create a \"document\" in the \"index\":\n",
    "POST /test-index/_doc/1\n",
    "{\n",
    "  \"name\": \"John Doe\",\n",
    "  \"age\": 30\n",
    "}\n",
    "# Output:\n",
    "        # {\n",
    "        #   \"_index\": \"test-index\",\n",
    "        #   \"_type\": \"_doc\",\n",
    "        #   \"_id\": \"1\",\n",
    "        #   \"_version\": 1,\n",
    "        #   \"result\": \"created\",\n",
    "        #   \"_shards\": {\n",
    "        #     \"total\": 2,\n",
    "        #     \"successful\": 2,\n",
    "        #     \"failed\": 0\n",
    "        #   },\n",
    "        #   \"_seq_no\": 0,\n",
    "        #   \"_primary_term\": 1\n",
    "        # }\n",
    "\n",
    "\n",
    "#【3】To query the document created:\n",
    "GET /test-index/_doc/1\n",
    "# Output:\n",
    "        # {\n",
    "        #   \"_index\": \"test-index\",\n",
    "        #   \"_type\": \"_doc\",\n",
    "        #   \"_id\": \"1\",\n",
    "        #   \"_version\": 1,\n",
    "        #   \"_seq_no\": 0,\n",
    "        #   \"_primary_term\": 1,\n",
    "        #   \"found\": true,\n",
    "        #   \"_source\": {\n",
    "        #     \"name\": \"John Doe\",\n",
    "        #     \"age\": 30\n",
    "        #   }\n",
    "        # }\n",
    "\n",
    "\n",
    "#【4】To update a document:\n",
    "PUT /test-index/_doc/1\n",
    "{\n",
    "  \"name\": \"John Doe\",\n",
    "  \"age\": 30,\n",
    "  \"gender\": \"male\"\n",
    "}\n",
    "# Output:\n",
    "        # {\n",
    "        #   \"_index\": \"test-index\",\n",
    "        #   \"_type\": \"_doc\",\n",
    "        #   \"_id\": \"1\",\n",
    "        #   \"_version\": 2,\n",
    "        #   \"result\": \"updated\",\n",
    "        #   \"_shards\": {\n",
    "        #     \"total\": 2,\n",
    "        #     \"successful\": 2,\n",
    "        #     \"failed\": 0\n",
    "        #   },\n",
    "        #   \"_seq_no\": 1,\n",
    "        #   \"_primary_term\": 1\n",
    "        # }\n",
    "\n",
    "\n",
    "#【5】To delete a document:\n",
    "DELETE /test-index/_doc/1\n",
    "\n",
    "\n",
    "#【6】To delete the index:\n",
    "DELETE /test-index\n",
    "#Output:\n",
    "        # {\n",
    "        #   \"acknowledged\": true\n",
    "        # }"
   ]
  }
 ],
 "metadata": {
  "language_info": {
   "name": "python"
  },
  "orig_nbformat": 4
 },
 "nbformat": 4,
 "nbformat_minor": 2
}
