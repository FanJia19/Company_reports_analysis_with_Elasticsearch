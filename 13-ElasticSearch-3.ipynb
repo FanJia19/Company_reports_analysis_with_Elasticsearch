{
 "cells": [
  {
   "cell_type": "markdown",
   "metadata": {},
   "source": [
    "# **Load Data into ES - 3**\n",
    "3rd Try - Load entire page's text as one doc, and test retrieving results from ES search results"
   ]
  },
  {
   "cell_type": "code",
   "execution_count": 1,
   "metadata": {},
   "outputs": [],
   "source": [
    "import os\n",
    "import csv\n",
    "import json\n",
    "import pandas as pd\n",
    "import numpy as np\n",
    "from PyPDF2 import PdfFileReader"
   ]
  },
  {
   "cell_type": "code",
   "execution_count": 2,
   "metadata": {},
   "outputs": [
    {
     "data": {
      "text/plain": [
       "{'acknowledged': True,\n",
       " 'shards_acknowledged': True,\n",
       " 'index': 'esg_report_3_by_page'}"
      ]
     },
     "execution_count": 2,
     "metadata": {},
     "output_type": "execute_result"
    }
   ],
   "source": [
    "# ------------------------- Create an ES Client -------------------------\n",
    "from elasticsearch import Elasticsearch\n",
    "es_client = Elasticsearch(\n",
    "    \"localhost:9200\",\n",
    "    http_auth=[\"elastic\", \"changeme\"]) \n",
    "\n",
    "# ---------------------- Create an ES Index Client ----------------------\n",
    "from elasticsearch.client import IndicesClient\n",
    "es_index_client = IndicesClient(es_client)\n",
    "type(es_index_client)\n",
    "\n",
    "# ------------------- Define the Settings & Mappings --------------------\n",
    "configurations = {\n",
    "    \"settings\": {\n",
    "        \"index\": {\n",
    "            \"number_of_replicas\": 1},\n",
    "        \"analysis\": {\n",
    "            \"filter\": {\n",
    "                \"ngram_filter\": {\n",
    "                  \"type\": \"edge_ngram\",\n",
    "                  \"min_gram\": 2,\n",
    "                  \"max_gram\": 50}\n",
    "            },\n",
    "            \"analyzer\": {\n",
    "                \"ngram_analyzer\": {\n",
    "                    \"type\": \"custom\",\n",
    "                    \"tokenizer\": \"standard\",\n",
    "                    \"filter\": [\n",
    "                      \"lowercase\",\n",
    "                      \"ngram_filter\"]\n",
    "                }  \n",
    "            }\n",
    "        }\n",
    "    },\n",
    "    \"mappings\": {\n",
    "        \"properties\": {\n",
    "            \"id\": {\n",
    "                \"type\": \"text\"},\n",
    "            \"label\": {\n",
    "                \"type\": \"long\"},\n",
    "            \"filename\": {\n",
    "                \"type\": \"text\",\n",
    "                \"fields\": {\n",
    "                    \"keyword\": {\n",
    "                        \"type\": \"keyword\"}\n",
    "                }\n",
    "            },\n",
    "            \"page\": {\n",
    "                \"type\": \"long\"},\n",
    "            \"text\": {\n",
    "                \"type\": \"text\",\n",
    "                \"analyzer\": \"standard\",\n",
    "                \"fields\": {\n",
    "                    \"keyword\": {\n",
    "                        \"type\": \"keyword\"},\n",
    "                    \"ngrams\": {\n",
    "                        \"type\": \"text\",\n",
    "                        \"analyzer\": \"ngram_analyzer\"}\n",
    "                }\n",
    "            }\n",
    "        }\n",
    "    }\n",
    "}\n",
    "# ------------------------- Create an ES Index -------------------------\n",
    "es_index_client.create(index=\"esg_report_3_by_page\", settings=configurations[\"settings\"], mappings=configurations[\"mappings\"])"
   ]
  },
  {
   "cell_type": "code",
   "execution_count": null,
   "metadata": {},
   "outputs": [],
   "source": [
    "# ------------------------- Bulk Load PDF pages into ES as individual Docs (pos only for testing) -------------------------\n",
    "index_name = \"esg_report_3_by_page\"\n",
    "pos_PDF_path = \"Crawler & Processing/2.Develop - Crawler Folder/pos_reports_test/\"\n",
    "pos_PDF_file_list = os.listdir(\"Crawler & Processing/2.Develop - Crawler Folder/pos_reports_test\")\n",
    "\n",
    "action_list = []  \n",
    "\n",
    "for fileName in pos_PDF_file_list:\n",
    "    try:\n",
    "        if os.path.isfile(os.path.join(pos_PDF_path, fileName)): ##### checking if it is a file, if yes, extract text and map info into JSON\n",
    "            \n",
    "            pdf_ID = int(fileName.split(\".\")[0]) ##### Get PDF id before \".csv\"\n",
    "            \n",
    "            with open(pos_PDF_path+fileName, 'rb') as f:\n",
    "                pdf = PdfFileReader(f)   ##### f is class: '_io.BufferedReader'\n",
    "                for pn in range(1, pdf.getNumPages()): ##### Get all pages of a PDF\n",
    "                    page = pdf.getPage(pn)   ###### Retrieves a page by number from this PDF file. Returns: a PageObject instance.\n",
    "                    text = page.extractText()   ##### Locate all text drawing commands, in the order they are provided in the content stream, and extract the text. \n",
    "                    doc_id_str = str(pdf_ID)+\".\"+str(pn)\n",
    "                    \n",
    "                    action = {\"index\": {\"_index\": index_name, \"_id\": doc_id_str}}\n",
    "                    doc = { \n",
    "                        \"id\": doc_id_str,\n",
    "                        \"label\": 1,\n",
    "                        \"filename\": fileName,\n",
    "                        \"page\": pn,\n",
    "                        \"text\": text,\n",
    "                        # 'keywords': text.split(\" \"),\n",
    "                    }   \n",
    "                    action_list.append(json.dumps(action))  \n",
    "                    action_list.append(json.dumps(doc)) \n",
    "        \n",
    "    except:\n",
    "        continue\n",
    "    \n",
    "# ------------------------- Feed \"action_list\" into a JSON File -------------------------\n",
    "with open(\"esg_report_3_by_page.json\", \"w\") as write_file:\n",
    "    write_file.write(\"\\n\".join(action_list))\n",
    "# ------------------------- Feed the JSON File to ES - Bulk Upload!!! -------------------------\n",
    "es_client.bulk(body=\"\\n\".join(action_list))"
   ]
  },
  {
   "cell_type": "code",
   "execution_count": 4,
   "metadata": {},
   "outputs": [
    {
     "name": "stderr",
     "output_type": "stream",
     "text": [
      "DeprecationWarning: The 'body' parameter is deprecated for the 'search' API and will be removed in a future version. Instead use API parameters directly. See https://github.com/elastic/elasticsearch-py/issues/1698 for more information [2957614086.py:8]\n"
     ]
    },
    {
     "name": "stdout",
     "output_type": "stream",
     "text": [
      "---\"Result\" is a <class 'dict'>, including items:\n",
      "\"took\" is of type: <class 'int'>\n",
      "\"timed_out\" is of type: <class 'bool'>\n",
      "\"_shards\" is of type: <class 'dict'>\n",
      "\"hits\" is of type: <class 'dict'>\n",
      "------------ End of Level-1 ------------\n",
      "\n",
      "----- \"Result[\"_shards\"]\" is a <class 'dict'>, including items:\n",
      "\"total\" is of type: <class 'int'>\n",
      "\"successful\" is of type: <class 'int'>\n",
      "\"skipped\" is of type: <class 'int'>\n",
      "\"failed\" is of type: <class 'int'>\n",
      "----- \"Result[\"hits\"]\" is a <class 'dict'>, including items:\n",
      "\"total\" is of type: <class 'dict'>\n",
      "\"max_score\" is of type: <class 'float'>\n",
      "\"hits\" is of type: <class 'list'>\n",
      "------------ End of Level-2 ------------\n",
      "\n",
      "----- \"Result[\"hits\"][\"total\"]\" is a <class 'dict'>, including items:\n",
      "\"value\" is of type: <class 'int'>\n",
      "\"relation\" is of type: <class 'str'>\n",
      "----- \"Result[\"hits\"][\"hits\"]\" is a <class 'list'>, including items:\n",
      "This list has 1 <class 'dict'>, which is the main body of the data, as seen below:\n",
      "{\n",
      " \"_index\": \"esg_report_3_by_page\",\n",
      " \"_type\": \"_doc\",\n",
      " \"_id\": \"8.2\",\n",
      " \"_score\": 1.0,\n",
      " \"_source\": {\n",
      "  \"id\": \"8.2\",\n",
      "  \"label\": 1,\n",
      "  \"filename\": \"8.pdf\",\n",
      "  \"page\": 2,\n",
      "  \"text\": \"TALKING ABOUT SUSTAINABILITY \\nMEANS FOR US TALKING \\n ABOUT OUR VALUES.\\n  BEING RESPECTFUL, \\n BEING RESPONSIBLE,\\n CREATING VALUE.\\n\"\n",
      " }\n",
      "} ------------ End of list\n",
      "------------ End of Level-3 ------------\n"
     ]
    }
   ],
   "source": [
    "search_query = {\n",
    "    \"query\": {\n",
    "    \"terms\": {\n",
    "      \"id\": [8.2]\n",
    "    }\n",
    "  }\n",
    "}\n",
    "result = es_client.search(index=\"esg_report_3_by_page\", body=search_query)\n",
    "\n",
    "# print(json.dumps(result, indent=1))\n",
    "\n",
    "##### Check the data types of all items in \"results\":\n",
    "print('---\"Result\" is a {}, including items:'.format(type(result)))\n",
    "for key in result.keys():\n",
    "    print('\"{}\" is of type:'.format(key), type(result[key]))\n",
    "print('------------ End of Level-1 ------------\\n')\n",
    "\n",
    "print('----- \"Result[\"_shards\"]\" is a {}, including items:'.format(type(result[\"_shards\"])))\n",
    "for key in result[\"_shards\"].keys():\n",
    "    print('\"{}\" is of type:'.format(key), type(result[\"_shards\"][key]))\n",
    "\n",
    "print('----- \"Result[\"hits\"]\" is a {}, including items:'.format(type(result[\"hits\"])))\n",
    "for key in result[\"hits\"].keys():\n",
    "    print('\"{}\" is of type:'.format(key), type(result[\"hits\"][key]))\n",
    "print('------------ End of Level-2 ------------\\n')\n",
    "\n",
    "print('----- \"Result[\"hits\"][\"total\"]\" is a {}, including items:'.format(type(result[\"hits\"][\"total\"])))\n",
    "for key in result[\"hits\"][\"total\"].keys():\n",
    "    print('\"{}\" is of type:'.format(key), type(result[\"hits\"][\"total\"][key]))\n",
    "    \n",
    "print('----- \"Result[\"hits\"][\"hits\"]\" is a {}, including items:'.format(type(result[\"hits\"][\"hits\"])))\n",
    "# print(json.dumps(result[\"hits\"][\"hits\"], indent=1))\n",
    "print('This list has {} {}, which is the main body of the data, as seen below:'.format(len(result[\"hits\"][\"hits\"]), \n",
    "                                                                                             type(result[\"hits\"][\"hits\"][0])))\n",
    "for l in result[\"hits\"][\"hits\"]:\n",
    "    print(json.dumps(l, indent=1), \"------------ End of list\")\n",
    "print('------------ End of Level-3 ------------')\n",
    "\n"
   ]
  },
  {
   "cell_type": "markdown",
   "metadata": {},
   "source": [
    "## **ES Search Results: Data Type & Accessibility in Python**\n",
    "\n",
    "* **Result:**   (Dict)\n",
    "    * \"took\"   (int)\n",
    "    * \"timed_out\"   (Bool)\n",
    "    * **\"_shards\":**   (Dict)\n",
    "        * \"total\"   (int)\n",
    "        * \"successful\"   (int)\n",
    "        * \"skipped\"   (int)\n",
    "        * \"failed\"   (int)\n",
    "    * **\"hits\":**   (Dict)\n",
    "        * \"total\"   (Dict)\n",
    "            * \"value\"   ( int)\n",
    "            * \"relation\"   (str)\n",
    "        * \"max_score\"   (float)\n",
    "        * **\"hits\":**   (list of 1 Dict )\n",
    "            * \"_index\": \"esg_report_3_by_page\"\n",
    "            * \"_type\": \"_doc\"\n",
    "            * \"_id\": \"8.2\"\n",
    "            * \"_score\": 1.0\n",
    "            * **\"_source\":** { (Dict)\n",
    "                * \"id\": \"8.2\"\n",
    "                * \"label\": 1\n",
    "                * \"filename\": \"8.pdf\"\n",
    "                * \"page\": 2\n",
    "                * \"text\": \"........\"\n",
    "                * \"keywords\": [\"...\", \"...\", ...]\n",
    "\n",
    "</br>\n",
    "* 【\"Pretty\" print of ES results】: \"\"\"\" j = json.dumps  (result, indent=1) \"\"\""
   ]
  },
  {
   "cell_type": "code",
   "execution_count": 126,
   "metadata": {},
   "outputs": [
    {
     "name": "stderr",
     "output_type": "stream",
     "text": [
      "DeprecationWarning: The 'body' parameter is deprecated for the 'search' API and will be removed in a future version. Instead use API parameters directly. See https://github.com/elastic/elasticsearch-py/issues/1698 for more information [2573367676.py:8]\n"
     ]
    }
   ],
   "source": [
    "search_query = {\n",
    "    \"query\": {\n",
    "    \"terms\": {\n",
    "      \"id\": [8.2]\n",
    "    }\n",
    "  }\n",
    "}\n",
    "result = es_client.search(index=\"esg_report_3_by_page\", body=search_query)"
   ]
  },
  {
   "cell_type": "code",
   "execution_count": 142,
   "metadata": {},
   "outputs": [
    {
     "name": "stdout",
     "output_type": "stream",
     "text": [
      "{'total': {'value': 1, 'relation': 'eq'}, 'max_score': 1.0, 'hits': [{'_index': 'esg_report_3_by_page', '_type': '_doc', '_id': '8.2', '_score': 1.0, '_source': {'id': '8.2', 'label': 1, 'filename': '8.pdf', 'page': 2, 'text': 'TALKING ABOUT SUSTAINABILITY \\nMEANS FOR US TALKING \\n ABOUT OUR VALUES.\\n  BEING RESPECTFUL, \\n BEING RESPONSIBLE,\\n CREATING VALUE.\\n'}}]} \n",
      "\n",
      "[{'_index': 'esg_report_3_by_page', '_type': '_doc', '_id': '8.2', '_score': 1.0, '_source': {'id': '8.2', 'label': 1, 'filename': '8.pdf', 'page': 2, 'text': 'TALKING ABOUT SUSTAINABILITY \\nMEANS FOR US TALKING \\n ABOUT OUR VALUES.\\n  BEING RESPECTFUL, \\n BEING RESPONSIBLE,\\n CREATING VALUE.\\n'}}] \n",
      "\n",
      "{'id': '8.2', 'label': 1, 'filename': '8.pdf', 'page': 2, 'text': 'TALKING ABOUT SUSTAINABILITY \\nMEANS FOR US TALKING \\n ABOUT OUR VALUES.\\n  BEING RESPECTFUL, \\n BEING RESPONSIBLE,\\n CREATING VALUE.\\n'} \n",
      "\n",
      "<class 'dict'> \n",
      "\n",
      "['id', 'label', 'filename', 'page', 'text']\n",
      "['8.2', 1, '8.pdf', 2, 'TALKING ABOUT SUSTAINABILITY \\nMEANS FOR US TALKING \\n ABOUT OUR VALUES.\\n  BEING RESPECTFUL, \\n BEING RESPONSIBLE,\\n CREATING VALUE.\\n']\n"
     ]
    },
    {
     "data": {
      "text/html": [
       "<div>\n",
       "<style scoped>\n",
       "    .dataframe tbody tr th:only-of-type {\n",
       "        vertical-align: middle;\n",
       "    }\n",
       "\n",
       "    .dataframe tbody tr th {\n",
       "        vertical-align: top;\n",
       "    }\n",
       "\n",
       "    .dataframe thead th {\n",
       "        text-align: right;\n",
       "    }\n",
       "</style>\n",
       "<table border=\"1\" class=\"dataframe\">\n",
       "  <thead>\n",
       "    <tr style=\"text-align: right;\">\n",
       "      <th></th>\n",
       "      <th>id</th>\n",
       "      <th>label</th>\n",
       "      <th>filename</th>\n",
       "      <th>page</th>\n",
       "      <th>text</th>\n",
       "    </tr>\n",
       "  </thead>\n",
       "  <tbody>\n",
       "    <tr>\n",
       "      <th>0</th>\n",
       "      <td>8.2</td>\n",
       "      <td>1</td>\n",
       "      <td>8.pdf</td>\n",
       "      <td>2</td>\n",
       "      <td>TALKING ABOUT SUSTAINABILITY \\nMEANS FOR US TA...</td>\n",
       "    </tr>\n",
       "  </tbody>\n",
       "</table>\n",
       "</div>"
      ],
      "text/plain": [
       "    id  label filename  page  \\\n",
       "0  8.2      1    8.pdf     2   \n",
       "\n",
       "                                                text  \n",
       "0  TALKING ABOUT SUSTAINABILITY \\nMEANS FOR US TA...  "
      ]
     },
     "execution_count": 142,
     "metadata": {},
     "output_type": "execute_result"
    }
   ],
   "source": [
    "print(result[\"hits\"], \"\\n\")\n",
    "print(result[\"hits\"][\"hits\"], \"\\n\")\n",
    "#result[\"hits\"][\"hits\"] is a list of 1 Dict, there must be a \"[0]\" to index the item out\n",
    "res_data = result[\"hits\"][\"hits\"][0][\"_source\"]\n",
    "print(res_data, \"\\n\")\n",
    "print(type(res_data), \"\\n\")\n",
    "\n",
    "print(list(res_data.keys()))\n",
    "print(list(res_data.values()))\n",
    "\n",
    "df = pd.DataFrame(res_data, index=[0])\n",
    "df.head()"
   ]
  },
  {
   "cell_type": "code",
   "execution_count": 143,
   "metadata": {},
   "outputs": [
    {
     "name": "stderr",
     "output_type": "stream",
     "text": [
      "DeprecationWarning: The 'body' parameter is deprecated for the 'search' API and will be removed in a future version. Instead use API parameters directly. See https://github.com/elastic/elasticsearch-py/issues/1698 for more information [3145636413.py:8]\n"
     ]
    }
   ],
   "source": [
    "search_query = {\n",
    "    \"query\": {\n",
    "    \"terms\": {\n",
    "      \"id\": [8.1, 8.2, 8.3, 9.1, 9.2, 9.3, 11.1, 11.2, 11.3]\n",
    "    }\n",
    "  }\n",
    "}\n",
    "result = es_client.search(index=\"esg_report_3_by_page\", body=search_query)"
   ]
  },
  {
   "cell_type": "code",
   "execution_count": 162,
   "metadata": {},
   "outputs": [
    {
     "name": "stdout",
     "output_type": "stream",
     "text": [
      "['_index', '_type', '_id', '_score', '_source']\n"
     ]
    },
    {
     "data": {
      "text/html": [
       "<div>\n",
       "<style scoped>\n",
       "    .dataframe tbody tr th:only-of-type {\n",
       "        vertical-align: middle;\n",
       "    }\n",
       "\n",
       "    .dataframe tbody tr th {\n",
       "        vertical-align: top;\n",
       "    }\n",
       "\n",
       "    .dataframe thead th {\n",
       "        text-align: right;\n",
       "    }\n",
       "</style>\n",
       "<table border=\"1\" class=\"dataframe\">\n",
       "  <thead>\n",
       "    <tr style=\"text-align: right;\">\n",
       "      <th></th>\n",
       "      <th>_index</th>\n",
       "      <th>_type</th>\n",
       "      <th>_id</th>\n",
       "      <th>_score</th>\n",
       "      <th>_source</th>\n",
       "    </tr>\n",
       "  </thead>\n",
       "  <tbody>\n",
       "  </tbody>\n",
       "</table>\n",
       "</div>"
      ],
      "text/plain": [
       "Empty DataFrame\n",
       "Columns: [_index, _type, _id, _score, _source]\n",
       "Index: []"
      ]
     },
     "execution_count": 162,
     "metadata": {},
     "output_type": "execute_result"
    }
   ],
   "source": [
    "\n",
    "#result[\"hits\"][\"hits\"] is a list of 9 Dict, needs to use \"for\" loop\n",
    "res_data = result[\"hits\"][\"hits\"] \n",
    "# print(type(res_data), \"\\n\")\n",
    "# print(json.dumps(res_data, indent=1), \"\\n\")\n",
    "\n",
    "# print(list(res_data[0].keys()))\n",
    "df = pd.DataFrame(columns = list(res_data[0].keys()))\n",
    "\n",
    "for i in res_data:\n",
    "    # print(type(i), i, \"\\n\")\n",
    "    df = pd.DataFrame(i, index=[0])\n",
    "\n",
    "df"
   ]
  },
  {
   "cell_type": "code",
   "execution_count": null,
   "metadata": {},
   "outputs": [],
   "source": []
  },
  {
   "cell_type": "code",
   "execution_count": null,
   "metadata": {},
   "outputs": [],
   "source": []
  },
  {
   "cell_type": "code",
   "execution_count": null,
   "metadata": {},
   "outputs": [],
   "source": []
  },
  {
   "cell_type": "code",
   "execution_count": null,
   "metadata": {},
   "outputs": [],
   "source": []
  },
  {
   "cell_type": "code",
   "execution_count": null,
   "metadata": {},
   "outputs": [],
   "source": []
  },
  {
   "cell_type": "code",
   "execution_count": null,
   "metadata": {},
   "outputs": [],
   "source": []
  },
  {
   "cell_type": "code",
   "execution_count": null,
   "metadata": {},
   "outputs": [],
   "source": []
  }
 ],
 "metadata": {
  "interpreter": {
   "hash": "89e63de8770f628c77675a9211c73c50d8048a4fbbbf8de889960f40f43afefe"
  },
  "kernelspec": {
   "display_name": "Python 3.8.12 64-bit ('base': conda)",
   "language": "python",
   "name": "python3"
  },
  "language_info": {
   "codemirror_mode": {
    "name": "ipython",
    "version": 3
   },
   "file_extension": ".py",
   "mimetype": "text/x-python",
   "name": "python",
   "nbconvert_exporter": "python",
   "pygments_lexer": "ipython3",
   "version": "3.8.12"
  },
  "orig_nbformat": 4
 },
 "nbformat": 4,
 "nbformat_minor": 2
}
