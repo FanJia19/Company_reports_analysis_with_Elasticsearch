{
 "cells": [
  {
   "cell_type": "markdown",
   "metadata": {},
   "source": [
    "# **Load Data into ES - 1**\n",
    "1st try to bulk load data into ElasticSearch Index: using manually labeled and trimmed CSV files with each row being a nested field in the \"content\" property"
   ]
  },
  {
   "cell_type": "code",
   "execution_count": 1,
   "metadata": {},
   "outputs": [],
   "source": [
    "import os\n",
    "import csv\n",
    "import json\n",
    "import pandas as pd\n",
    "import numpy as np\n"
   ]
  },
  {
   "cell_type": "code",
   "execution_count": 2,
   "metadata": {},
   "outputs": [
    {
     "data": {
      "text/plain": [
       "elasticsearch.client.indices.IndicesClient"
      ]
     },
     "execution_count": 2,
     "metadata": {},
     "output_type": "execute_result"
    }
   ],
   "source": [
    "# ------------------------- Create an ES Client -------------------------\n",
    "from elasticsearch import Elasticsearch\n",
    "es_client = Elasticsearch(\n",
    "    \"localhost:9200\",\n",
    "    http_auth=[\"elastic\", \"changeme\"], \n",
    ") \n",
    "# ---------------------- Create an ES Index Client ----------------------\n",
    "from elasticsearch.client import IndicesClient\n",
    "es_index_client = IndicesClient(es_client)\n",
    "type(es_index_client)"
   ]
  },
  {
   "cell_type": "code",
   "execution_count": 29,
   "metadata": {},
   "outputs": [
    {
     "data": {
      "text/plain": [
       "{'acknowledged': True, 'shards_acknowledged': True, 'index': 'esg_report_1'}"
      ]
     },
     "execution_count": 29,
     "metadata": {},
     "output_type": "execute_result"
    }
   ],
   "source": [
    "# ------------------- Define the Settings & Mappings --------------------\n",
    "configurations = {\n",
    "    \"settings\": {\n",
    "        \"index\": {\n",
    "            \"number_of_replicas\": 1},\n",
    "        \"analysis\": {\n",
    "            \"filter\": {\n",
    "                \"ngram_filter\": {\n",
    "                  \"type\": \"edge_ngram\",\n",
    "                  \"min_gram\": 2,\n",
    "                  \"max_gram\": 50}\n",
    "            },\n",
    "            \"analyzer\": {\n",
    "                \"ngram_analyzer\": {\n",
    "                    \"type\": \"custom\",\n",
    "                    \"tokenizer\": \"standard\",\n",
    "                    \"filter\": [\n",
    "                      \"lowercase\",\n",
    "                      \"ngram_filter\"]\n",
    "                }  \n",
    "            }\n",
    "        }\n",
    "    },\n",
    "    \"mappings\": {\n",
    "        \"properties\": {\n",
    "            \"id\": {\n",
    "                \"type\": \"long\"},\n",
    "            \"label\": {\n",
    "                \"type\": \"long\"},\n",
    "            \"company\": {\n",
    "                \"type\": \"text\"},\n",
    "            \"industry\": {\n",
    "                \"type\": \"text\"},\n",
    "            \"country\": {\n",
    "                \"type\": \"text\"},\n",
    "            \"date\": {\n",
    "                \"type\": \"text\"},\n",
    "            \"content\": {\n",
    "                \"type\": \"nested\",\n",
    "                \"properties\": {\n",
    "                    \"page\": {\n",
    "                        \"type\": \"long\"},\n",
    "                    \"priority\": {\n",
    "                        \"type\": \"float\"},\n",
    "                    \"words\": {\n",
    "                        \"type\": \"text\",\n",
    "                        \"analyzer\": \"standard\",\n",
    "                        \"fields\": {\n",
    "                            \"keyword\": {\n",
    "                                \"type\": \"keyword\"},\n",
    "                            \"ngrams\": {\n",
    "                                \"type\": \"text\",\n",
    "                                \"analyzer\": \"ngram_analyzer\"}\n",
    "                        }\n",
    "                    }\n",
    "                }\n",
    "            }\n",
    "        }\n",
    "    }\n",
    "}\n",
    "# ------------------------- Create an ES Index -------------------------\n",
    "\n",
    "es_index_client.create(index=\"esg_report_1\", settings=configurations[\"settings\"], mappings=configurations[\"mappings\"])"
   ]
  },
  {
   "cell_type": "code",
   "execution_count": null,
   "metadata": {},
   "outputs": [],
   "source": [
    "# ------------------- DELETE Existing Index --------------------\n",
    "# in Kibana:    DELETE esg_report_1 "
   ]
  },
  {
   "cell_type": "code",
   "execution_count": 13,
   "metadata": {},
   "outputs": [
    {
     "name": "stdout",
     "output_type": "stream",
     "text": [
      "Total number of positive CSV files: 5\n",
      "Type of pos_file_list items: <class 'str'>\n",
      "['.DS_Store', '11.csv', '3-row version', '8.csv', '9.csv']\n",
      "['11.csv', '8.csv', '9.csv']\n"
     ]
    }
   ],
   "source": [
    "# ------------------- List all raw CSV files Crawled and Processed using ING scripts --------------------\n",
    "# List all Positive CSVs\n",
    "pos_CSV_list = os.listdir(\"Crawler & Processing/2.Develop - Crawler Folder/pos_csv_test\")\n",
    "pos_CSV_list.sort()\n",
    "print(\"Total number of positive CSV files:\", len(pos_CSV_list))\n",
    "print(\"Type of pos_file_list items:\", type(pos_CSV_list[0]))\n",
    "print(pos_CSV_list)\n",
    "pos_CSV_list.pop(0)\n",
    "pos_CSV_list.pop(1)\n",
    "print(pos_CSV_list)\n",
    "# print(\"Show the pos_CSV_list:\", pos_CSV_list)\n",
    "\n",
    "# List all Negative CSVs\n",
    "    # neg_CSV_list = os.listdir(\"Crawler & Processing/2.Develop - Crawler Folder/neg_csv\")\n",
    "    # neg_CSV_list.sort()\n",
    "    # print(\"Total number of negative CSV files:\", len(neg_CSV_list))\n",
    "    # print(\"Type of pos_file_list items:\", type(neg_CSV_list[0]))\n",
    "# print(\"Show the neg_CSV_list:\", neg_CSV_list)"
   ]
  },
  {
   "cell_type": "code",
   "execution_count": 14,
   "metadata": {},
   "outputs": [
    {
     "data": {
      "text/html": [
       "<div>\n",
       "<style scoped>\n",
       "    .dataframe tbody tr th:only-of-type {\n",
       "        vertical-align: middle;\n",
       "    }\n",
       "\n",
       "    .dataframe tbody tr th {\n",
       "        vertical-align: top;\n",
       "    }\n",
       "\n",
       "    .dataframe thead th {\n",
       "        text-align: right;\n",
       "    }\n",
       "</style>\n",
       "<table border=\"1\" class=\"dataframe\">\n",
       "  <thead>\n",
       "    <tr style=\"text-align: right;\">\n",
       "      <th></th>\n",
       "      <th>Unique ID</th>\n",
       "      <th>Issuer - subsidiary</th>\n",
       "      <th>Issuer industry</th>\n",
       "      <th>Country of risk</th>\n",
       "      <th>Date</th>\n",
       "    </tr>\n",
       "  </thead>\n",
       "  <tbody>\n",
       "    <tr>\n",
       "      <th>0</th>\n",
       "      <td>3</td>\n",
       "      <td>Cagayan Electric Power &amp; Light Co Inc</td>\n",
       "      <td>Energy</td>\n",
       "      <td>Philippines</td>\n",
       "      <td>2001-05-30</td>\n",
       "    </tr>\n",
       "    <tr>\n",
       "      <th>1</th>\n",
       "      <td>16478</td>\n",
       "      <td>Nanjing Financial City Construction &amp; Developm...</td>\n",
       "      <td>Financials</td>\n",
       "      <td>China</td>\n",
       "      <td>2021-04-30</td>\n",
       "    </tr>\n",
       "    <tr>\n",
       "      <th>2</th>\n",
       "      <td>16481</td>\n",
       "      <td>Suzhou Tech City Development Group Co Ltd</td>\n",
       "      <td>Financials</td>\n",
       "      <td>China</td>\n",
       "      <td>2021-04-30</td>\n",
       "    </tr>\n",
       "    <tr>\n",
       "      <th>3</th>\n",
       "      <td>16479</td>\n",
       "      <td>Landesbank Baden-Wuerttemberg</td>\n",
       "      <td>Financials</td>\n",
       "      <td>Germany</td>\n",
       "      <td>2021-04-30</td>\n",
       "    </tr>\n",
       "    <tr>\n",
       "      <th>4</th>\n",
       "      <td>16480</td>\n",
       "      <td>City of Lunds Sweden</td>\n",
       "      <td>Government</td>\n",
       "      <td>Sweden</td>\n",
       "      <td>2021-04-30</td>\n",
       "    </tr>\n",
       "  </tbody>\n",
       "</table>\n",
       "</div>"
      ],
      "text/plain": [
       "   Unique ID                                Issuer - subsidiary  \\\n",
       "0          3              Cagayan Electric Power & Light Co Inc   \n",
       "1      16478  Nanjing Financial City Construction & Developm...   \n",
       "2      16481          Suzhou Tech City Development Group Co Ltd   \n",
       "3      16479                      Landesbank Baden-Wuerttemberg   \n",
       "4      16480                               City of Lunds Sweden   \n",
       "\n",
       "  Issuer industry Country of risk       Date  \n",
       "0          Energy     Philippines 2001-05-30  \n",
       "1      Financials           China 2021-04-30  \n",
       "2      Financials           China 2021-04-30  \n",
       "3      Financials         Germany 2021-04-30  \n",
       "4      Government          Sweden 2021-04-30  "
      ]
     },
     "execution_count": 14,
     "metadata": {},
     "output_type": "execute_result"
    }
   ],
   "source": [
    "# ------------------- Append Company-specific Data --------------------\n",
    "# Load companies.xlsx for company info\n",
    "com_details = pd.read_excel(\"Crawler & Processing/2.Develop - Crawler Folder/companies.xlsx\")\n",
    "\n",
    "# Display df info\n",
    "com_details.head()"
   ]
  },
  {
   "cell_type": "code",
   "execution_count": 30,
   "metadata": {},
   "outputs": [
    {
     "data": {
      "text/plain": [
       "{'took': 2,\n",
       " 'errors': False,\n",
       " 'items': [{'index': {'_index': 'esg_report_1',\n",
       "    '_type': '_doc',\n",
       "    '_id': '11',\n",
       "    '_version': 1,\n",
       "    'result': 'created',\n",
       "    '_shards': {'total': 2, 'successful': 1, 'failed': 0},\n",
       "    '_seq_no': 0,\n",
       "    '_primary_term': 1,\n",
       "    'status': 201}},\n",
       "  {'index': {'_index': 'esg_report_1',\n",
       "    '_type': '_doc',\n",
       "    '_id': '8',\n",
       "    '_version': 1,\n",
       "    'result': 'created',\n",
       "    '_shards': {'total': 2, 'successful': 1, 'failed': 0},\n",
       "    '_seq_no': 1,\n",
       "    '_primary_term': 1,\n",
       "    'status': 201}},\n",
       "  {'index': {'_index': 'esg_report_1',\n",
       "    '_type': '_doc',\n",
       "    '_id': '9',\n",
       "    '_version': 1,\n",
       "    'result': 'created',\n",
       "    '_shards': {'total': 2, 'successful': 1, 'failed': 0},\n",
       "    '_seq_no': 2,\n",
       "    '_primary_term': 1,\n",
       "    'status': 201}}]}"
      ]
     },
     "execution_count": 30,
     "metadata": {},
     "output_type": "execute_result"
    }
   ],
   "source": [
    "# ------------------------- Create 3 Docs for Positive CSVs -------------------------\n",
    "index_name = \"esg_report_1\"\n",
    "action_list = []  \n",
    "\n",
    "for fileName in pos_CSV_list:\n",
    "    pdf_ID = int(fileName.split(\".\")[0])\n",
    "    matched_row = com_details[com_details[\"Unique ID\"]==pdf_ID].iloc[0] \n",
    "    \n",
    "    action = {\"index\": {\"_index\": index_name, \"_id\": pdf_ID}}  \n",
    "    doc = { \n",
    "        \"id\": pdf_ID, \n",
    "        \"label\": 1,\n",
    "        \"company\": matched_row[\"Issuer - subsidiary\"],\n",
    "        \"industry\": matched_row[\"Issuer industry\"],\n",
    "        \"country\": matched_row[\"Country of risk\"],\n",
    "        \"date\": str(matched_row[\"Date\"]).split(\"-\")[0],\n",
    "        \"content\":[]\n",
    "    }\n",
    "    action_list.append(json.dumps(action))  \n",
    "    action_list.append(json.dumps(doc)) \n",
    "\n",
    "# ------------------------- Feed the JSON File to ES - Bulk Upload!!! -------------------------\n",
    "with open(\"esg_report_1.json\", \"w\") as write_file:\n",
    "    write_file.write(\"\\n\".join(action_list))\n",
    "    \n",
    "es_client.bulk(body=\"\\n\".join(action_list))\n",
    "\n"
   ]
  },
  {
   "cell_type": "code",
   "execution_count": 18,
   "metadata": {},
   "outputs": [
    {
     "name": "stdout",
     "output_type": "stream",
     "text": [
      "0\n",
      "1\n",
      "1\n"
     ]
    }
   ],
   "source": [
    "with open(\"Crawler & Processing/2.Develop - Crawler Folder/pos_csv_test/9.csv\", \"r\") as f:\n",
    "    csv_file = csv.DictReader(f, fieldnames=columns, delimiter=\",\", quotechar='\"')\n",
    "    \n",
    "    next(csv_file)\n",
    "    \n",
    "    for row in csv_file:\n",
    "        print(row[\"page\"])"
   ]
  },
  {
   "cell_type": "code",
   "execution_count": 31,
   "metadata": {},
   "outputs": [
    {
     "name": "stderr",
     "output_type": "stream",
     "text": [
      "/var/folders/cb/3qy8wy6s2571t48bzrjk5vl80000gn/T/ipykernel_99506/2115043924.py:25: DeprecationWarning: The 'body' parameter is deprecated for the 'update' API and will be removed in a future version. Instead use API parameters directly. See https://github.com/elastic/elasticsearch-py/issues/1698 for more information\n",
      "  es_client.update(index=\"esg_report_1\", id=pdf_ID, body=update_query)\n"
     ]
    }
   ],
   "source": [
    "columns = [\"page\", \"priority\", \"content\"]\n",
    "            \n",
    "for fileName in pos_CSV_list:\n",
    "    pdf_ID = int(fileName.split(\".\")[0])\n",
    "\n",
    "    with open(\"Crawler & Processing/2.Develop - Crawler Folder/pos_csv_test/\" + fileName, \"r\") as f:\n",
    "        csv_file = csv.DictReader(f, fieldnames=columns, delimiter=\",\", quotechar='\"')\n",
    "        \n",
    "        next(csv_file)\n",
    "\n",
    "        for row in csv_file:                 #################【invalid literal for int() with base 10: ''】\n",
    "            update_query = {\n",
    "                \"script\": {\n",
    "                    \"source\": \"ctx._source.content.add(params.content)\",\n",
    "                    \"params\": {\n",
    "                        \"content\": {\n",
    "                            \"page\" : int(row[\"page\"]),\n",
    "                            \"priority\" : float(row[\"priority\"]),\n",
    "                            \"words\" : row[\"content\"]\n",
    "                        }\n",
    "                    }\n",
    "                } \n",
    "            }\n",
    "            \n",
    "            es_client.update(index=\"esg_report_1\", id=pdf_ID, body=update_query)  \n",
    "    \n",
    "    # df = pd.read_csv(\"Crawler & Processing/2.Develop - Crawler Folder/pos_csv_test/\" + fileName)\n",
    "    # df.dropna(axis=0, inplace=True)\n",
    "    # display(df.shape)\n",
    "\n",
    "    # for i in df.index:\n",
    "    #     print(df.iloc[i, 0])\n",
    "    #     update_query = {\n",
    "    #         \"script\": {\n",
    "    #             \"source\": \"ctx._source.content.add(params.content)\",\n",
    "    #             \"params\": {\n",
    "    #                 \"content\": {\n",
    "    #                     \"page\" : int(df.iloc[i, 0]),\n",
    "    #                     \"priority\" : float(df.iloc[i, 1]),\n",
    "    #                     \"words\" : df.iloc[i, 2]\n",
    "    #                 }\n",
    "    #             }\n",
    "    #         } \n",
    "    #     }\n",
    "        # es_client.update(index=\"esg_report_1\", id=pdf_ID, body=update_query)   \n"
   ]
  },
  {
   "cell_type": "code",
   "execution_count": null,
   "metadata": {},
   "outputs": [],
   "source": []
  },
  {
   "cell_type": "code",
   "execution_count": null,
   "metadata": {},
   "outputs": [],
   "source": []
  },
  {
   "cell_type": "code",
   "execution_count": null,
   "metadata": {},
   "outputs": [],
   "source": []
  },
  {
   "cell_type": "code",
   "execution_count": null,
   "metadata": {},
   "outputs": [],
   "source": []
  },
  {
   "cell_type": "code",
   "execution_count": null,
   "metadata": {},
   "outputs": [],
   "source": []
  },
  {
   "cell_type": "code",
   "execution_count": null,
   "metadata": {},
   "outputs": [],
   "source": []
  }
 ],
 "metadata": {
  "interpreter": {
   "hash": "89e63de8770f628c77675a9211c73c50d8048a4fbbbf8de889960f40f43afefe"
  },
  "kernelspec": {
   "display_name": "Python 3.8.12 64-bit ('base': conda)",
   "language": "python",
   "name": "python3"
  },
  "language_info": {
   "codemirror_mode": {
    "name": "ipython",
    "version": 3
   },
   "file_extension": ".py",
   "mimetype": "text/x-python",
   "name": "python",
   "nbconvert_exporter": "python",
   "pygments_lexer": "ipython3",
   "version": "3.8.12"
  },
  "orig_nbformat": 4
 },
 "nbformat": 4,
 "nbformat_minor": 2
}
