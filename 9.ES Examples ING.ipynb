{
 "cells": [
  {
   "cell_type": "markdown",
   "id": "bdb8c08d",
   "metadata": {},
   "source": [
    "# Indexing"
   ]
  },
  {
   "cell_type": "code",
   "execution_count": null,
   "id": "d3513b1d",
   "metadata": {
    "scrolled": true
   },
   "outputs": [],
   "source": [
    "from datetime import datetime\n",
    "from elasticsearch import Elasticsearch\n",
    "es = Elasticsearch()\n",
    "\n"
   ]
  },
  {
   "cell_type": "markdown",
   "id": "01dfa338",
   "metadata": {},
   "source": [
    "# Parse PDFs PyPDF2"
   ]
  },
  {
   "cell_type": "code",
   "execution_count": null,
   "id": "6cb8d608",
   "metadata": {},
   "outputs": [],
   "source": [
    "# extracting_text.py\n",
    "path = \"\"\n",
    "\n",
    "from PyPDF2 import PdfFileReader\n",
    "def text_extractor(path):\n",
    "    with open(path, 'rb') as f:\n",
    "        pdf = PdfFileReader(f)\n",
    "        # get the first page#\n",
    "        for i in range(1, pdf.getNumPages()):\n",
    "            page = pdf.getPage(i)\n",
    "            print(page)\n",
    "            print('Page type: {}'.format(str(type(page))))\n",
    "            text = page.extractText()\n",
    "            print(text)\n",
    "\n",
    "path = '/Users/ki86ua/Downloads/reports/16477.pdf'\n",
    "text_extractor(path)"
   ]
  },
  {
   "cell_type": "markdown",
   "id": "fc5169a4",
   "metadata": {},
   "source": [
    "## Iterate over files"
   ]
  },
  {
   "cell_type": "code",
   "execution_count": null,
   "id": "69fc40b2",
   "metadata": {},
   "outputs": [],
   "source": [
    "# import required module\n",
    "import os\n",
    "# assign directory\n",
    "directory = '/Users/ki86ua/Downloads/testreport/'\n",
    "#directory = '/Users/ki86ua/Downloads/reports 2/'\n",
    "#directory = '/Users/ki86ua/Desktop/Elastic/positive_examples/'\n",
    "\n",
    "\n",
    "# iterate over files in\n",
    "# that directory\n",
    "j=0\n",
    "for filename in os.listdir(directory):\n",
    "    try:\n",
    "        f = os.path.join(directory, filename)\n",
    "\n",
    "        # checking if it is a file\n",
    "        if os.path.isfile(f):\n",
    "            print(f)\n",
    "            print(filename[:-4])\n",
    "            with open(f, 'rb') as f:\n",
    "                pdf = PdfFileReader(f)\n",
    "                # get the first page#\n",
    "                for i in range(1, pdf.getNumPages()):\n",
    "                    page = pdf.getPage(i)\n",
    "                    #print(page)\n",
    "                    #print('Page type: {}'.format(str(type(page))))\n",
    "                    text = page.extractText()\n",
    "                    #print(text)\n",
    "                    doc = {\n",
    "                    'file': filename,\n",
    "                    'page': i,\n",
    "                    'text': text,\n",
    "                    'keyword': text.split(\" \"),\n",
    "                    'timestamp': datetime.now(),\n",
    "                    'source':\"positives\"\n",
    "                    }\n",
    "                    j=j+1;\n",
    "                    res = es.index(index=\"sustainable-indexy-keyword\", id=str(j)+\"-\"+str(i), body=doc)\n",
    "                    print(res['result'])\n",
    "    except:\n",
    "        continue\n",
    "\n",
    "\n"
   ]
  },
  {
   "cell_type": "markdown",
   "id": "66363a55",
   "metadata": {},
   "source": [
    "# Search"
   ]
  },
  {
   "cell_type": "code",
   "execution_count": null,
   "id": "95967d65",
   "metadata": {},
   "outputs": [],
   "source": [
    "from datetime import datetime\n",
    "from elasticsearch import Elasticsearch\n",
    "es = Elasticsearch()\n",
    "res = es.get(index=\"sustainable-index\", id=\"3198.pdf-579\")\n",
    "print(res['_source'])"
   ]
  },
  {
   "cell_type": "code",
   "execution_count": null,
   "id": "fb286454",
   "metadata": {},
   "outputs": [],
   "source": [
    "#es.indices.refresh(index=\"sustainable-index\")\n",
    "\n",
    "res = es.search(index=\"sustainable-index\", body={\"query\": {\"match_all\": {}}})\n",
    "print(\"Got %d Hits:\" % res['hits']['total']['value'])\n"
   ]
  },
  {
   "cell_type": "code",
   "execution_count": null,
   "id": "92124c0e",
   "metadata": {},
   "outputs": [],
   "source": [
    "res = es.search(index=\"sustainable-index\", body={\"query\": {\"more_like_this\": {\"fields\": [\"text\"],\"like\":[{\"_id\": \"151.pdf-69\"}]}}})"
   ]
  },
  {
   "cell_type": "code",
   "execution_count": null,
   "id": "74162ee8",
   "metadata": {},
   "outputs": [],
   "source": [
    "res"
   ]
  },
  {
   "cell_type": "code",
   "execution_count": null,
   "id": "d82fafac",
   "metadata": {},
   "outputs": [],
   "source": []
  },
  {
   "cell_type": "code",
   "execution_count": null,
   "id": "5266bc75",
   "metadata": {},
   "outputs": [],
   "source": [
    "res = es.search(index=\"sustainable-index\", body={\"query\": {\"more_like_this\": {\"fields\": [\"text\"],\"like\":[{\"_id\": \"3198.pdf-332\"}]}}})"
   ]
  },
  {
   "cell_type": "code",
   "execution_count": null,
   "id": "89c856ba",
   "metadata": {},
   "outputs": [],
   "source": [
    "res"
   ]
  }
 ],
 "metadata": {
  "kernelspec": {
   "display_name": "Python 3 (ipykernel)",
   "language": "python",
   "name": "python3"
  },
  "language_info": {
   "codemirror_mode": {
    "name": "ipython",
    "version": 3
   },
   "file_extension": ".py",
   "mimetype": "text/x-python",
   "name": "python",
   "nbconvert_exporter": "python",
   "pygments_lexer": "ipython3",
   "version": "3.8.11"
  }
 },
 "nbformat": 4,
 "nbformat_minor": 5
}
