{
 "cells": [
  {
   "cell_type": "markdown",
   "metadata": {},
   "source": [
    "# **0. What is Elasticsearch and why is it so fast?**\n",
    "Following: https://lynn-kwong.medium.com/what-is-elasticsearch-and-why-is-it-so-fast-5a4b95747d19\n"
   ]
  },
  {
   "cell_type": "markdown",
   "metadata": {},
   "source": [
    "Elasticsearch is the most popular <u>open-source enterprise search engine</u> based on the <u>Lucene</u> library, which allows the creation of \"indices\" on every \"field\" of a \"document\" by default. Another popular search engine based on the Lucene library is <u>Apache Solr</u>. Solr is a mature and also widely used search engine. We can’t easily say which one is better and there has been fierce quarrels about this issue. Nonetheless, Elasticsearch is becoming more and more popular and has become the first choice for many companies. Elasticsearch is very <u>easy to install and get started</u>. There is even a company called <u>elastic.co</u> which is dedicated to the creation and maintenance of Elasticsearch deployments.\n",
    "\n",
    "Besides being a search engine, Elasticsearch is also a <u>distributed document store</u>. Unlike relational databases like MySQL which stores data as rows and columns, Elasticsearch is a <u>NoSQL data store</u> which stores data as <u>**JSON documents**</u>. In the aspect of data store, Elasticsearch is similar to <u>MongoDB</u> which also stores data as JSON documents. However, Elasticsearch and MongoDB are quite different. First, MongoDB is dedicated to data storage, whereas Elasticsearch is to <u>searching</u>. Or we can understand in this way that MongoDB is optimized for writing and Elasticsearch is optimized for <u>reading</u>. In Elasticsearch, all the \"fields\" are \"indexed\" by default, while in MongoDB you need to create the indices by yourself otherwise the read operation can be slow. Besides, with Elasticsearch, you can use <u>RESTful APIs</u> to do the <u>CRUD</u> operations, while in MongoDB RESTful APIs are not supported, and you need to use the MongoDB domain specific language to do the CRUD operations.\n",
    "\n",
    "Why is Elasticsearch so fast? It is because Elasticsearch uses a data structure called an <u>**inverted index**</u> which supports very <u>fast full-text searches</u> and <u>lists every unique word that appears in any document and identifies all of the documents each word occurs in</u>. By default, Elasticsearch <u>indexes all data in every field and each indexed field has a dedicated, optimized data structure</u>. For example, <u>**text**</u> fields are stored in inverted indices, and <u>**numeric and geo**</u> fields are stored in BKD trees. The ability to use the <u>per-field data structures</u> to assemble and return search results is what makes Elasticsearch so fast."
   ]
  },
  {
   "cell_type": "code",
   "execution_count": null,
   "metadata": {},
   "outputs": [],
   "source": []
  }
 ],
 "metadata": {
  "language_info": {
   "name": "python"
  },
  "orig_nbformat": 4
 },
 "nbformat": 4,
 "nbformat_minor": 2
}
